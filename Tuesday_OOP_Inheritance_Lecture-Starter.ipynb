{
 "cells": [
  {
   "cell_type": "markdown",
   "metadata": {},
   "source": [
    "# Object-Oriented-Programming (OOP)"
   ]
  },
  {
   "cell_type": "markdown",
   "metadata": {},
   "source": [
    "## Tasks Today:\n",
    "\n",
    "   \n",
    "1) <b>Dunder Methods</b> <br>\n",
    " &nbsp;&nbsp;&nbsp;&nbsp; a) The \\__str\\__() Method <br>\n",
    " &nbsp;&nbsp;&nbsp;&nbsp; b) The \\__repr\\__() Method <br>\n",
    " &nbsp;&nbsp;&nbsp;&nbsp; c) Other Magic Methods <br>\n",
    " &nbsp;&nbsp;&nbsp;&nbsp; d) In-Class Exercise #1 - Create a class Animal that displays the species and animal name when printed <br>  \n",
    "2) <b>Inheritance</b> <br>\n",
    " &nbsp;&nbsp;&nbsp;&nbsp; a) Syntax for Inheriting from a Parent Class <br>\n",
    " &nbsp;&nbsp;&nbsp;&nbsp; b) The \\__init\\__() Method for a Child Class (super()) <br>\n",
    " &nbsp;&nbsp;&nbsp;&nbsp; c) Defining Attributes and Methods for the Child Class <br>\n",
    " &nbsp;&nbsp;&nbsp;&nbsp; d) Method Overriding <br>\n",
    " &nbsp;&nbsp;&nbsp;&nbsp; e) In-Class Exercise #2 - Create a class 'Ford' that inherits from 'Car' class and initialize it as a Blue Ford Explorer with 4 wheels using the super() method <br>\n",
    "3) <b>Modules</b> <br>\n",
    " &nbsp;&nbsp;&nbsp;&nbsp; a) Importing Modules<br>\n",
    " &nbsp;&nbsp;&nbsp;&nbsp; b) Importing from modules <br>\n",
    " &nbsp;&nbsp;&nbsp;&nbsp; c) Aliasing <br>\n",
    " &nbsp;&nbsp;&nbsp;&nbsp; d) Creating Modules <br>\n"
   ]
  },
  {
   "cell_type": "markdown",
   "metadata": {},
   "source": [
    "### Warm Up"
   ]
  },
  {
   "cell_type": "markdown",
   "metadata": {},
   "source": [
    "Create a class for a Book that has instance attributes for `title`, `author`, `num_of_pages`, and `price`. Each book instance should also have a `current_page` attribute that starts at 0. Add a method called `read` that takes in number of pages. The method should update the what the current page is. If the `current_page` goes over the `num_of_pages`, print that the book is finished and reset the `current_page` to 0"
   ]
  },
  {
   "cell_type": "code",
   "execution_count": 1,
   "metadata": {},
   "outputs": [],
   "source": [
    "class Book:\n",
    "    def __init__(self, title, author, num_of_pages, price):\n",
    "        self.title = title\n",
    "        self.author = author\n",
    "        self.num_of_pages = num_of_pages\n",
    "        self.price = price\n",
    "        self.current_page = 0\n",
    "        print(f\"Congrats on purchasing {title} by {author} for ${price:.2f}\")\n",
    "        \n",
    "    def read(self, num_pages):\n",
    "        self.current_page += num_pages\n",
    "        if self.current_page >= self.num_of_pages:\n",
    "            print(f\"Congrats on finishing {self.title}\")\n",
    "            self.current_page = 0\n",
    "        else:\n",
    "            print(f\"You are currently on page {self.current_page} of {self.title}. There are {self.num_of_pages - self.current_page} pages left\")\n"
   ]
  },
  {
   "cell_type": "code",
   "execution_count": 2,
   "metadata": {},
   "outputs": [
    {
     "name": "stdout",
     "output_type": "stream",
     "text": [
      "Congrats on purchasing The Midnight Library by Matt Haig for $26.00\n",
      "You are currently on page 45 of The Midnight Library. There are 243 pages left\n",
      "You are currently on page 104 of The Midnight Library. There are 184 pages left\n",
      "You are currently on page 146 of The Midnight Library. There are 142 pages left\n",
      "You are currently on page 230 of The Midnight Library. There are 58 pages left\n",
      "Congrats on finishing The Midnight Library\n"
     ]
    }
   ],
   "source": [
    "book = Book(\"The Midnight Library\", \"Matt Haig\", 288, 26.00)\n",
    "book.read(45)\n",
    "book.read(59)\n",
    "book.read(42)\n",
    "book.read(84)\n",
    "book.read(62)"
   ]
  },
  {
   "cell_type": "code",
   "execution_count": 3,
   "metadata": {},
   "outputs": [
    {
     "name": "stdout",
     "output_type": "stream",
     "text": [
      "Congrats on purchasing Range by David Epstein for $14.99\n",
      "You are currently on page 123 of Range. There are 168 pages left\n",
      "You are currently on page 223 of Range. There are 68 pages left\n",
      "You are currently on page 283 of Range. There are 8 pages left\n",
      "Congrats on finishing Range\n",
      "You are currently on page 10 of Range. There are 281 pages left\n"
     ]
    }
   ],
   "source": [
    "book2 = Book(\"Range\", \"David Epstein\", 291, 14.99)\n",
    "\n",
    "book2.read(123)\n",
    "book2.read(100)\n",
    "book2.read(60)\n",
    "book2.read(8)\n",
    "book2.read(10)"
   ]
  },
  {
   "cell_type": "code",
   "execution_count": 4,
   "metadata": {},
   "outputs": [
    {
     "name": "stdout",
     "output_type": "stream",
     "text": [
      "<__main__.Book object at 0x000001B69547E170>\n",
      "<__main__.Book object at 0x000001B6953E7F70>\n"
     ]
    }
   ],
   "source": [
    "library = [book, book2]\n",
    "\n",
    "for b in library:\n",
    "    print(b)"
   ]
  },
  {
   "cell_type": "markdown",
   "metadata": {},
   "source": [
    "## Dunder Methods"
   ]
  },
  {
   "cell_type": "code",
   "execution_count": 5,
   "metadata": {},
   "outputs": [
    {
     "data": {
      "text/plain": [
       "'123'"
      ]
     },
     "execution_count": 5,
     "metadata": {},
     "output_type": "execute_result"
    }
   ],
   "source": [
    "number = 123\n",
    "\n",
    "str(number)"
   ]
  },
  {
   "cell_type": "code",
   "execution_count": 6,
   "metadata": {},
   "outputs": [
    {
     "data": {
      "text/plain": [
       "'123'"
      ]
     },
     "execution_count": 6,
     "metadata": {},
     "output_type": "execute_result"
    }
   ],
   "source": [
    "int.__str__(number)"
   ]
  },
  {
   "cell_type": "code",
   "execution_count": 7,
   "metadata": {},
   "outputs": [
    {
     "name": "stdout",
     "output_type": "stream",
     "text": [
      "123\n"
     ]
    }
   ],
   "source": [
    "print(number)"
   ]
  },
  {
   "cell_type": "markdown",
   "metadata": {},
   "source": [
    "#### \\__str\\__()"
   ]
  },
  {
   "cell_type": "code",
   "execution_count": 27,
   "metadata": {},
   "outputs": [],
   "source": [
    "class Car:\n",
    "    def __init__(self, color, make, model):\n",
    "        self.color = color\n",
    "        self.make = make\n",
    "        self.model = model\n",
    "        \n",
    "    def __str__(self):\n",
    "        return f\"{self.color} {self.make} {self.model}\".title()\n",
    "    \n",
    "    def drive(self, num_miles):\n",
    "        print(f\"The {self} has driven {num_miles} miles\")\n",
    "        \n",
    "    \n",
    "car1 = Car('red', 'toyota', 'camry')\n",
    "car2 = Car('blue', 'honda', 'civic')"
   ]
  },
  {
   "cell_type": "code",
   "execution_count": 28,
   "metadata": {},
   "outputs": [
    {
     "name": "stdout",
     "output_type": "stream",
     "text": [
      "Red Toyota Camry\n",
      "Blue Honda Civic\n"
     ]
    }
   ],
   "source": [
    "print(car1)\n",
    "print(car2)"
   ]
  },
  {
   "cell_type": "code",
   "execution_count": 29,
   "metadata": {},
   "outputs": [
    {
     "data": {
      "text/plain": [
       "'Red Toyota Camry'"
      ]
     },
     "execution_count": 29,
     "metadata": {},
     "output_type": "execute_result"
    }
   ],
   "source": [
    "str(car1)"
   ]
  },
  {
   "cell_type": "code",
   "execution_count": 30,
   "metadata": {},
   "outputs": [
    {
     "data": {
      "text/plain": [
       "'Blue Honda Civic'"
      ]
     },
     "execution_count": 30,
     "metadata": {},
     "output_type": "execute_result"
    }
   ],
   "source": [
    "str(car2)"
   ]
  },
  {
   "cell_type": "code",
   "execution_count": 32,
   "metadata": {},
   "outputs": [
    {
     "name": "stdout",
     "output_type": "stream",
     "text": [
      "The Red Toyota Camry has driven 10 miles\n",
      "The Blue Honda Civic has driven 24 miles\n"
     ]
    }
   ],
   "source": [
    "car1.drive(10)\n",
    "car2.drive(24)"
   ]
  },
  {
   "cell_type": "code",
   "execution_count": 35,
   "metadata": {
    "scrolled": true
   },
   "outputs": [
    {
     "name": "stdout",
     "output_type": "stream",
     "text": [
      "Congrats on purchasing The Midnight Library by Matt Haig for $26.00\n",
      "Congrats on purchasing Harry Potter by JK Rowling for $34.00\n",
      "====================================================================================================\n",
      "My Library:\n",
      "The Midnight Library by Matt Haig\n",
      "Harry Potter by JK Rowling\n"
     ]
    }
   ],
   "source": [
    "class Book:\n",
    "    def __init__(self, title, author, num_of_pages, price):\n",
    "        self.title = title\n",
    "        self.author = author\n",
    "        self.num_of_pages = num_of_pages\n",
    "        self.price = price\n",
    "        self.current_page = 0\n",
    "        print(f\"Congrats on purchasing {title} by {author} for ${price:.2f}\")\n",
    "        \n",
    "    def __str__(self):\n",
    "        return f\"{self.title} by {self.author}\"\n",
    "        \n",
    "    def read(self, num_pages):\n",
    "        self.current_page += num_pages\n",
    "        if self.current_page >= self.num_of_pages:\n",
    "            print(f\"Congrats on finishing {self.title}\")\n",
    "            self.current_page = 0\n",
    "        else:\n",
    "            print(f\"You are currently on page {self.current_page} of {self.title}. There are {self.num_of_pages - self.current_page} pages left\")\n",
    "\n",
    "book1 = Book(\"The Midnight Library\", \"Matt Haig\", 288, 26.00)\n",
    "book2 = Book(\"Harry Potter\", \"JK Rowling\", 876, 34.00)\n",
    "\n",
    "print('='*100)\n",
    "\n",
    "library = [book1, book2]\n",
    "\n",
    "print('My Library:')\n",
    "for b in library:\n",
    "    print(b)"
   ]
  },
  {
   "cell_type": "markdown",
   "metadata": {},
   "source": [
    "#### \\__repr\\__()"
   ]
  },
  {
   "cell_type": "code",
   "execution_count": 40,
   "metadata": {
    "scrolled": true
   },
   "outputs": [],
   "source": [
    "class Car:\n",
    "    def __init__(self, color, make, model):\n",
    "        self.color = color.title()\n",
    "        self.make = make.title()\n",
    "        self.model = model.title()\n",
    "        \n",
    "    # Method that will return end user readable info\n",
    "    def __str__(self):\n",
    "        return f\"{self.color} {self.make} {self.model}\"\n",
    "    \n",
    "    # Method that will return the machine readable (developer friendly) info\n",
    "    def __repr__(self):\n",
    "        return f\"<Car|{self.make} {self.model}>\"\n",
    "    \n",
    "    def drive(self, num_miles):\n",
    "        print(f\"The {self} has driven {num_miles} miles\")\n",
    "        \n",
    "        \n",
    "car1 = Car('red', 'toyota', 'camry')\n",
    "car2 = Car('blue', 'honda', 'civic')"
   ]
  },
  {
   "cell_type": "code",
   "execution_count": 41,
   "metadata": {},
   "outputs": [
    {
     "name": "stdout",
     "output_type": "stream",
     "text": [
      "Red Toyota Camry\n",
      "Blue Honda Civic\n"
     ]
    }
   ],
   "source": [
    "print(car1)\n",
    "print(car2)"
   ]
  },
  {
   "cell_type": "code",
   "execution_count": 42,
   "metadata": {},
   "outputs": [
    {
     "data": {
      "text/plain": [
       "<Car|Toyota Camry>"
      ]
     },
     "execution_count": 42,
     "metadata": {},
     "output_type": "execute_result"
    }
   ],
   "source": [
    "car1"
   ]
  },
  {
   "cell_type": "code",
   "execution_count": 43,
   "metadata": {},
   "outputs": [
    {
     "data": {
      "text/plain": [
       "<Car|Honda Civic>"
      ]
     },
     "execution_count": 43,
     "metadata": {},
     "output_type": "execute_result"
    }
   ],
   "source": [
    "car2"
   ]
  },
  {
   "cell_type": "code",
   "execution_count": 45,
   "metadata": {},
   "outputs": [
    {
     "name": "stdout",
     "output_type": "stream",
     "text": [
      "[<Car|Toyota Camry>, <Car|Honda Civic>]\n",
      "Red Toyota Camry\n",
      "Blue Honda Civic\n"
     ]
    }
   ],
   "source": [
    "garage = [car1, car2]\n",
    "print(garage)\n",
    "\n",
    "for car in garage:\n",
    "    print(car)"
   ]
  },
  {
   "cell_type": "code",
   "execution_count": 56,
   "metadata": {},
   "outputs": [
    {
     "name": "stdout",
     "output_type": "stream",
     "text": [
      "[<BlogPost 1|First>, <BlogPost 2|Tuesday>]\n"
     ]
    }
   ],
   "source": [
    "class BlogPost:\n",
    "    id_counter = 1\n",
    "    \n",
    "    def __init__(self, title, body, author):\n",
    "        self.title = title\n",
    "        self.body = body\n",
    "        self.author = author\n",
    "        self.id = BlogPost.id_counter\n",
    "        BlogPost.id_counter += 1\n",
    "        \n",
    "    def __str__(self):\n",
    "        return f\"\"\"\n",
    "        {self.title.title()}\n",
    "        By: {self.author.title()}\n",
    "        {self.body}\n",
    "        \"\"\"\n",
    "    \n",
    "    def __repr__(self):\n",
    "        return f\"<BlogPost {self.id}|{self.title}>\"\n",
    "    \n",
    "    \n",
    "post1 = BlogPost('First', 'This is my very first post, I hope you like it', 'Brian')\n",
    "post2 = BlogPost('Tuesday', 'Today is Tuesday and we are learning some dunder methods', 'Sarah')\n",
    "\n",
    "posts = [post1, post2]\n",
    "print(posts)"
   ]
  },
  {
   "cell_type": "code",
   "execution_count": 57,
   "metadata": {},
   "outputs": [
    {
     "name": "stdout",
     "output_type": "stream",
     "text": [
      "\n",
      "        First\n",
      "        By: Brian\n",
      "        This is my very first post, I hope you like it\n",
      "        \n",
      "\n",
      "        Tuesday\n",
      "        By: Sarah\n",
      "        Today is Tuesday and we are learning some dunder methods\n",
      "        \n"
     ]
    }
   ],
   "source": [
    "for post in posts:\n",
    "    print(post)"
   ]
  },
  {
   "cell_type": "code",
   "execution_count": 58,
   "metadata": {},
   "outputs": [
    {
     "data": {
      "text/plain": [
       "<BlogPost 1|First>"
      ]
     },
     "execution_count": 58,
     "metadata": {},
     "output_type": "execute_result"
    }
   ],
   "source": [
    "post1"
   ]
  },
  {
   "cell_type": "code",
   "execution_count": 59,
   "metadata": {},
   "outputs": [
    {
     "name": "stdout",
     "output_type": "stream",
     "text": [
      "\n",
      "        First\n",
      "        By: Brian\n",
      "        This is my very first post, I hope you like it\n",
      "        \n"
     ]
    }
   ],
   "source": [
    "print(post1)"
   ]
  },
  {
   "cell_type": "code",
   "execution_count": 65,
   "metadata": {},
   "outputs": [
    {
     "name": "stdout",
     "output_type": "stream",
     "text": [
      "[<HotelRoom | 100>, <HotelRoom | 101>, <HotelRoom | 102>, <HotelRoom | 103>, <HotelRoom | 104>, <HotelRoom | 105>, <HotelRoom | 106>, <HotelRoom | 107>, <HotelRoom | 108>, <HotelRoom | 109>, <HotelRoom | 110>, <HotelRoom | 111>, <HotelRoom | 112>, <HotelRoom | 113>, <HotelRoom | 114>, <HotelRoom | 115>, <HotelRoom | 116>, <HotelRoom | 117>, <HotelRoom | 118>, <HotelRoom | 119>]\n"
     ]
    }
   ],
   "source": [
    "# If the __repr__() is defined but the __str__ is not, then __repr__ is used for string conversion (__str__ = __repr__)\n",
    "\n",
    "class HotelRoom:\n",
    "    def __init__(self, room_number):\n",
    "        self.room_number = room_number\n",
    "        self.occupied = False\n",
    "        \n",
    "    def __repr__(self):\n",
    "        return f\"<HotelRoom | {self.room_number}>\"\n",
    "    \n",
    "    \n",
    "hotel = [HotelRoom(num) for num in range(100, 120)]\n",
    "print(hotel)"
   ]
  },
  {
   "cell_type": "code",
   "execution_count": 66,
   "metadata": {
    "scrolled": true
   },
   "outputs": [
    {
     "name": "stdout",
     "output_type": "stream",
     "text": [
      "<HotelRoom | 100>\n",
      "<HotelRoom | 101>\n",
      "<HotelRoom | 102>\n",
      "<HotelRoom | 103>\n",
      "<HotelRoom | 104>\n",
      "<HotelRoom | 105>\n",
      "<HotelRoom | 106>\n",
      "<HotelRoom | 107>\n",
      "<HotelRoom | 108>\n",
      "<HotelRoom | 109>\n",
      "<HotelRoom | 110>\n",
      "<HotelRoom | 111>\n",
      "<HotelRoom | 112>\n",
      "<HotelRoom | 113>\n",
      "<HotelRoom | 114>\n",
      "<HotelRoom | 115>\n",
      "<HotelRoom | 116>\n",
      "<HotelRoom | 117>\n",
      "<HotelRoom | 118>\n",
      "<HotelRoom | 119>\n"
     ]
    }
   ],
   "source": [
    "for room in hotel:\n",
    "    print(room)"
   ]
  },
  {
   "cell_type": "code",
   "execution_count": 62,
   "metadata": {},
   "outputs": [
    {
     "name": "stdout",
     "output_type": "stream",
     "text": [
      "[<__main__.HotelRoom object at 0x000001B6953C96C0>, <__main__.HotelRoom object at 0x000001B6953A1C90>, <__main__.HotelRoom object at 0x000001B6953A07F0>, <__main__.HotelRoom object at 0x000001B6953A1FC0>, <__main__.HotelRoom object at 0x000001B69547ECE0>, <__main__.HotelRoom object at 0x000001B69547EDA0>, <__main__.HotelRoom object at 0x000001B696B0CF40>, <__main__.HotelRoom object at 0x000001B696B0D990>, <__main__.HotelRoom object at 0x000001B696B0F610>, <__main__.HotelRoom object at 0x000001B696B0F8B0>, <__main__.HotelRoom object at 0x000001B696B0C340>, <__main__.HotelRoom object at 0x000001B6953705E0>, <__main__.HotelRoom object at 0x000001B6953E4D30>, <__main__.HotelRoom object at 0x000001B6953E6560>, <__main__.HotelRoom object at 0x000001B6953E5C90>, <__main__.HotelRoom object at 0x000001B69595CA30>, <__main__.HotelRoom object at 0x000001B69595D810>, <__main__.HotelRoom object at 0x000001B69595F310>, <__main__.HotelRoom object at 0x000001B69595C250>, <__main__.HotelRoom object at 0x000001B69595F1F0>]\n"
     ]
    }
   ],
   "source": [
    "# The opposite is not true! if __str__ is there but no __repr__, __repr__ != __str__\n",
    "\n",
    "class HotelRoom:\n",
    "    def __init__(self, room_number):\n",
    "        self.room_number = room_number\n",
    "        self.occupied = False\n",
    "        \n",
    "    def __str__(self):\n",
    "        return f\"Room Number: {self.room_number}\\nOccupied: {self.occupied}\"\n",
    "    \n",
    "    \n",
    "hotel = [HotelRoom(num) for num in range(200, 220)]\n",
    "print(hotel)"
   ]
  },
  {
   "cell_type": "code",
   "execution_count": 64,
   "metadata": {
    "scrolled": false
   },
   "outputs": [
    {
     "name": "stdout",
     "output_type": "stream",
     "text": [
      "Room Number: 200\n",
      "Occupied: False\n",
      "=================\n",
      "Room Number: 201\n",
      "Occupied: False\n",
      "=================\n",
      "Room Number: 202\n",
      "Occupied: False\n",
      "=================\n",
      "Room Number: 203\n",
      "Occupied: False\n",
      "=================\n",
      "Room Number: 204\n",
      "Occupied: False\n",
      "=================\n",
      "Room Number: 205\n",
      "Occupied: False\n",
      "=================\n",
      "Room Number: 206\n",
      "Occupied: False\n",
      "=================\n",
      "Room Number: 207\n",
      "Occupied: False\n",
      "=================\n",
      "Room Number: 208\n",
      "Occupied: False\n",
      "=================\n",
      "Room Number: 209\n",
      "Occupied: False\n",
      "=================\n",
      "Room Number: 210\n",
      "Occupied: False\n",
      "=================\n",
      "Room Number: 211\n",
      "Occupied: False\n",
      "=================\n",
      "Room Number: 212\n",
      "Occupied: False\n",
      "=================\n",
      "Room Number: 213\n",
      "Occupied: False\n",
      "=================\n",
      "Room Number: 214\n",
      "Occupied: False\n",
      "=================\n",
      "Room Number: 215\n",
      "Occupied: False\n",
      "=================\n",
      "Room Number: 216\n",
      "Occupied: False\n",
      "=================\n",
      "Room Number: 217\n",
      "Occupied: False\n",
      "=================\n",
      "Room Number: 218\n",
      "Occupied: False\n",
      "=================\n",
      "Room Number: 219\n",
      "Occupied: False\n",
      "=================\n"
     ]
    }
   ],
   "source": [
    "for room in hotel:\n",
    "    print(room)\n",
    "    print('=================')"
   ]
  },
  {
   "cell_type": "markdown",
   "metadata": {},
   "source": [
    "#### \\__lt\\__(), \\__lte\\__(), \\__eq\\__(), etc"
   ]
  },
  {
   "cell_type": "code",
   "execution_count": 113,
   "metadata": {},
   "outputs": [],
   "source": [
    "class Product:\n",
    "    def __init__(self, name, price):\n",
    "        self.name = name\n",
    "        self.price = price\n",
    "        \n",
    "    def __str__(self):\n",
    "        return f\"{self.name}: ${self.price:.2f}\"\n",
    "    \n",
    "    def __repr__(self):\n",
    "        return f\"<Product|{self.name}>\"\n",
    "    \n",
    "    # Method that will be called when the < operator is used\n",
    "    def __lt__(self, other_prod):\n",
    "        if not isinstance(other_prod, Product):\n",
    "            raise TypeError(f\"Can only compare Product to another Product (not {type(other_prod)})\")\n",
    "        else:\n",
    "            return self.price < other_prod.price\n",
    "        \n",
    "    # Method that will be called when the > operator is used  \n",
    "    def __gt__(self, other_prod):\n",
    "        if not isinstance(other_prod, Product):\n",
    "            raise TypeError(f\"Can only compare Product to another Product (not {type(other_prod)})\")\n",
    "        else:\n",
    "            return self.price > other_prod.price\n",
    "        \n",
    "    # Method that will be called when the == operator is used\n",
    "    # *will override and only check if the Product's price is the same\n",
    "    def __eq__(self, other_prod):\n",
    "        if not isinstance(other_prod, Product):\n",
    "            raise TypeError(f\"Can only compare Product to another Product (not {type(other_prod)})\")\n",
    "        else:\n",
    "            return self.price == other_prod.price\n",
    "    \n",
    "    \n",
    "p1 = Product('Apple', 1.49)\n",
    "p2 = Product('Banana', .79)\n",
    "p3 = Product('Watermelon', 2.99)\n",
    "p4 = Product('Peach', 1.49)\n",
    "products = [p1, p2, p3, p4]"
   ]
  },
  {
   "cell_type": "code",
   "execution_count": 114,
   "metadata": {},
   "outputs": [
    {
     "name": "stdout",
     "output_type": "stream",
     "text": [
      "[<Product|Apple>, <Product|Banana>, <Product|Watermelon>, <Product|Peach>]\n"
     ]
    }
   ],
   "source": [
    "print(products)"
   ]
  },
  {
   "cell_type": "code",
   "execution_count": 115,
   "metadata": {},
   "outputs": [
    {
     "name": "stdout",
     "output_type": "stream",
     "text": [
      "Apple: $1.49\n",
      "Banana: $0.79\n",
      "Watermelon: $2.99\n",
      "Peach: $1.49\n"
     ]
    }
   ],
   "source": [
    "for p in products:\n",
    "    print(p)"
   ]
  },
  {
   "cell_type": "code",
   "execution_count": 116,
   "metadata": {},
   "outputs": [
    {
     "name": "stdout",
     "output_type": "stream",
     "text": [
      "True\n",
      "False\n",
      "False\n",
      "False\n"
     ]
    }
   ],
   "source": [
    "print(p1 > p2)\n",
    "print(p2 > p3)\n",
    "print(p3 < p1)\n",
    "print(p3 < p2)"
   ]
  },
  {
   "cell_type": "code",
   "execution_count": 117,
   "metadata": {},
   "outputs": [
    {
     "ename": "TypeError",
     "evalue": "Can only compare Product to another Product (not <class 'int'>)",
     "output_type": "error",
     "traceback": [
      "\u001b[1;31m---------------------------------------------------------------------------\u001b[0m",
      "\u001b[1;31mTypeError\u001b[0m                                 Traceback (most recent call last)",
      "Cell \u001b[1;32mIn[117], line 1\u001b[0m\n\u001b[1;32m----> 1\u001b[0m \u001b[38;5;28mprint\u001b[39m(\u001b[43mp1\u001b[49m\u001b[43m \u001b[49m\u001b[38;5;241;43m<\u001b[39;49m\u001b[43m \u001b[49m\u001b[38;5;241;43m10\u001b[39;49m)\n",
      "Cell \u001b[1;32mIn[113], line 15\u001b[0m, in \u001b[0;36mProduct.__lt__\u001b[1;34m(self, other_prod)\u001b[0m\n\u001b[0;32m     13\u001b[0m \u001b[38;5;28;01mdef\u001b[39;00m \u001b[38;5;21m__lt__\u001b[39m(\u001b[38;5;28mself\u001b[39m, other_prod):\n\u001b[0;32m     14\u001b[0m     \u001b[38;5;28;01mif\u001b[39;00m \u001b[38;5;129;01mnot\u001b[39;00m \u001b[38;5;28misinstance\u001b[39m(other_prod, Product):\n\u001b[1;32m---> 15\u001b[0m         \u001b[38;5;28;01mraise\u001b[39;00m \u001b[38;5;167;01mTypeError\u001b[39;00m(\u001b[38;5;124mf\u001b[39m\u001b[38;5;124m\"\u001b[39m\u001b[38;5;124mCan only compare Product to another Product (not \u001b[39m\u001b[38;5;132;01m{\u001b[39;00m\u001b[38;5;28mtype\u001b[39m(other_prod)\u001b[38;5;132;01m}\u001b[39;00m\u001b[38;5;124m)\u001b[39m\u001b[38;5;124m\"\u001b[39m)\n\u001b[0;32m     16\u001b[0m     \u001b[38;5;28;01melse\u001b[39;00m:\n\u001b[0;32m     17\u001b[0m         \u001b[38;5;28;01mreturn\u001b[39;00m \u001b[38;5;28mself\u001b[39m\u001b[38;5;241m.\u001b[39mprice \u001b[38;5;241m<\u001b[39m other_prod\u001b[38;5;241m.\u001b[39mprice\n",
      "\u001b[1;31mTypeError\u001b[0m: Can only compare Product to another Product (not <class 'int'>)"
     ]
    }
   ],
   "source": [
    "print(p1 < 10)"
   ]
  },
  {
   "cell_type": "code",
   "execution_count": 118,
   "metadata": {},
   "outputs": [
    {
     "ename": "TypeError",
     "evalue": "Can only compare Product to another Product (not <class 'str'>)",
     "output_type": "error",
     "traceback": [
      "\u001b[1;31m---------------------------------------------------------------------------\u001b[0m",
      "\u001b[1;31mTypeError\u001b[0m                                 Traceback (most recent call last)",
      "Cell \u001b[1;32mIn[118], line 1\u001b[0m\n\u001b[1;32m----> 1\u001b[0m \u001b[38;5;28mprint\u001b[39m(\u001b[43mp2\u001b[49m\u001b[43m \u001b[49m\u001b[38;5;241;43m>\u001b[39;49m\u001b[43m \u001b[49m\u001b[38;5;124;43m'\u001b[39;49m\u001b[38;5;124;43mhello\u001b[39;49m\u001b[38;5;124;43m'\u001b[39;49m)\n",
      "Cell \u001b[1;32mIn[113], line 22\u001b[0m, in \u001b[0;36mProduct.__gt__\u001b[1;34m(self, other_prod)\u001b[0m\n\u001b[0;32m     20\u001b[0m \u001b[38;5;28;01mdef\u001b[39;00m \u001b[38;5;21m__gt__\u001b[39m(\u001b[38;5;28mself\u001b[39m, other_prod):\n\u001b[0;32m     21\u001b[0m     \u001b[38;5;28;01mif\u001b[39;00m \u001b[38;5;129;01mnot\u001b[39;00m \u001b[38;5;28misinstance\u001b[39m(other_prod, Product):\n\u001b[1;32m---> 22\u001b[0m         \u001b[38;5;28;01mraise\u001b[39;00m \u001b[38;5;167;01mTypeError\u001b[39;00m(\u001b[38;5;124mf\u001b[39m\u001b[38;5;124m\"\u001b[39m\u001b[38;5;124mCan only compare Product to another Product (not \u001b[39m\u001b[38;5;132;01m{\u001b[39;00m\u001b[38;5;28mtype\u001b[39m(other_prod)\u001b[38;5;132;01m}\u001b[39;00m\u001b[38;5;124m)\u001b[39m\u001b[38;5;124m\"\u001b[39m)\n\u001b[0;32m     23\u001b[0m     \u001b[38;5;28;01melse\u001b[39;00m:\n\u001b[0;32m     24\u001b[0m         \u001b[38;5;28;01mreturn\u001b[39;00m \u001b[38;5;28mself\u001b[39m\u001b[38;5;241m.\u001b[39mprice \u001b[38;5;241m>\u001b[39m other_prod\u001b[38;5;241m.\u001b[39mprice\n",
      "\u001b[1;31mTypeError\u001b[0m: Can only compare Product to another Product (not <class 'str'>)"
     ]
    }
   ],
   "source": [
    "print(p2 > 'hello')"
   ]
  },
  {
   "cell_type": "code",
   "execution_count": 120,
   "metadata": {},
   "outputs": [
    {
     "name": "stdout",
     "output_type": "stream",
     "text": [
      "False\n",
      "True\n"
     ]
    }
   ],
   "source": [
    "print(p1 == p2)\n",
    "print(p1 == p4)\n",
    "print(p1 == p4)"
   ]
  },
  {
   "cell_type": "markdown",
   "metadata": {},
   "source": [
    "##### \\_\\_add\\_\\_, \\_\\_contains\\_\\_"
   ]
  },
  {
   "cell_type": "code",
   "execution_count": 169,
   "metadata": {},
   "outputs": [],
   "source": [
    "class Measurement:\n",
    "    def __init__(self, feet, inches):\n",
    "        while inches >= 12:\n",
    "            feet += 1\n",
    "            inches -= 12\n",
    "        self.feet = feet\n",
    "        self.inches = inches\n",
    "        \n",
    "    def __str__(self):\n",
    "        return f\"{self.feet} Feet {self.inches} Inches\"\n",
    "    \n",
    "    def __repr__(self):\n",
    "        return f\"<Measurement|{self.feet}'{self.inches}\\\">\"\n",
    "    \n",
    "    def __add__(self, other_measurement):\n",
    "        if not isinstance(other_measurement, Measurement):\n",
    "            raise TypeError(f\"+ can only be used with other instances of Measurement\")\n",
    "        new_feet = self.feet + other_measurement.feet\n",
    "        new_inches = self.inches + other_measurement.inches\n",
    "        while new_inches >= 12:\n",
    "            new_feet += 1\n",
    "            new_inches -= 12\n",
    "        return Measurement(new_feet, new_inches)\n",
    "    \n",
    "    def __sub__(self, other_measurement):\n",
    "        if not isinstance(other_measurement, Measurement):\n",
    "            raise TypeError(f\"- can only be used with other instances of Measurement\")\n",
    "        new_feet = self.feet - other_measurement.feet\n",
    "        new_inches = self.inches - other_measurement.inches\n",
    "        while new_inches <= 0:\n",
    "            new_feet -= 1\n",
    "            new_inches += 12\n",
    "        return Measurement(new_feet, new_inches)\n",
    "    \n",
    "    \n",
    "    \n",
    "m1 = Measurement(10, 3)\n",
    "m2 = Measurement(7, 8)\n",
    "m3 = Measurement(9, 9)\n",
    "m4 = Measurement(3, 29)"
   ]
  },
  {
   "cell_type": "code",
   "execution_count": 170,
   "metadata": {},
   "outputs": [
    {
     "name": "stdout",
     "output_type": "stream",
     "text": [
      "10 Feet 3 Inches\n",
      "7 Feet 8 Inches\n",
      "2 Feet 7 Inches\n"
     ]
    }
   ],
   "source": [
    "print(m1)\n",
    "print(m2)\n",
    "print(m1 - m2)"
   ]
  },
  {
   "cell_type": "code",
   "execution_count": 171,
   "metadata": {},
   "outputs": [
    {
     "name": "stdout",
     "output_type": "stream",
     "text": [
      "7 Feet 8 Inches\n",
      "9 Feet 9 Inches\n",
      "17 Feet 5 Inches\n",
      "27 Feet 8 Inches\n"
     ]
    }
   ],
   "source": [
    "print(m2)\n",
    "print(m3)\n",
    "print(m2 + m3)\n",
    "new_measure = m1 + m2 + m3\n",
    "print(new_measure)"
   ]
  },
  {
   "cell_type": "code",
   "execution_count": 172,
   "metadata": {},
   "outputs": [
    {
     "data": {
      "text/plain": [
       "<Measurement|27'8\">"
      ]
     },
     "execution_count": 172,
     "metadata": {},
     "output_type": "execute_result"
    }
   ],
   "source": [
    "new_measure"
   ]
  },
  {
   "cell_type": "code",
   "execution_count": 173,
   "metadata": {},
   "outputs": [
    {
     "name": "stdout",
     "output_type": "stream",
     "text": [
      "5 Feet 5 Inches\n",
      "15 Feet 2 Inches\n"
     ]
    }
   ],
   "source": [
    "print(m4)\n",
    "m5 = m4 + m3\n",
    "print(m5)"
   ]
  },
  {
   "cell_type": "code",
   "execution_count": 174,
   "metadata": {},
   "outputs": [
    {
     "name": "stdout",
     "output_type": "stream",
     "text": [
      "2 Feet 7 Inches\n"
     ]
    }
   ],
   "source": [
    "print(m1 - m2)"
   ]
  },
  {
   "cell_type": "code",
   "execution_count": 177,
   "metadata": {},
   "outputs": [
    {
     "name": "stdout",
     "output_type": "stream",
     "text": [
      "2 Feet 7 Inches\n"
     ]
    }
   ],
   "source": [
    "print(m1 - m2)"
   ]
  },
  {
   "cell_type": "code",
   "execution_count": 185,
   "metadata": {},
   "outputs": [
    {
     "name": "stdout",
     "output_type": "stream",
     "text": [
      "Apple has been added to your cart\n",
      "Banana has been added to your cart\n",
      "Watermelon has been added to your cart\n",
      "[<Item|Apple>, <Item|Banana>, <Item|Watermelon>]\n"
     ]
    }
   ],
   "source": [
    "class ShoppingCart:\n",
    "    def __init__(self):\n",
    "        self.items = []\n",
    "        \n",
    "    def add_to_cart(self, item):\n",
    "        self.items.append(item)\n",
    "        print(f\"{item} has been added to your cart\")\n",
    "        \n",
    "    def __contains__(self, item_name):\n",
    "        for item in self.items:\n",
    "            if item.name == item_name:\n",
    "                return True\n",
    "        return False\n",
    "        \n",
    "        \n",
    "class Item:\n",
    "    def __init__(self, name, price):\n",
    "        self.name = name\n",
    "        self.price = price\n",
    "        \n",
    "    def __str__(self):\n",
    "        return self.name.title()\n",
    "    \n",
    "    def __repr__(self):\n",
    "        return f\"<Item|{self.name}>\"\n",
    "    \n",
    "    \n",
    "    \n",
    "my_cart = ShoppingCart()\n",
    "\n",
    "item1 = Item('Apple', 1.40)\n",
    "item2 = Item('Banana', .89)\n",
    "item3 = Item('Watermelon', 2.99)\n",
    "\n",
    "my_cart.add_to_cart(item1)\n",
    "my_cart.add_to_cart(item2)\n",
    "my_cart.add_to_cart(item3)\n",
    "\n",
    "print(my_cart.items)"
   ]
  },
  {
   "cell_type": "code",
   "execution_count": 186,
   "metadata": {},
   "outputs": [
    {
     "name": "stdout",
     "output_type": "stream",
     "text": [
      "Enter item: Apple\n"
     ]
    },
    {
     "data": {
      "text/plain": [
       "True"
      ]
     },
     "execution_count": 186,
     "metadata": {},
     "output_type": "execute_result"
    }
   ],
   "source": [
    "item_to_remove = input(\"Enter item: \")\n",
    "item_to_remove in my_cart"
   ]
  },
  {
   "cell_type": "code",
   "execution_count": 187,
   "metadata": {},
   "outputs": [
    {
     "data": {
      "text/plain": [
       "True"
      ]
     },
     "execution_count": 187,
     "metadata": {},
     "output_type": "execute_result"
    }
   ],
   "source": [
    "'Banana' in my_cart"
   ]
  },
  {
   "cell_type": "markdown",
   "metadata": {},
   "source": [
    "#### In-class Exercise 1"
   ]
  },
  {
   "cell_type": "code",
   "execution_count": 191,
   "metadata": {},
   "outputs": [
    {
     "name": "stdout",
     "output_type": "stream",
     "text": [
      "Leo the Lion\n",
      "Buddy the Dog\n",
      "Brian the Human\n"
     ]
    }
   ],
   "source": [
    "# Create a class Animal that displays the name and species when printed\n",
    "class Animal:\n",
    "    def __init__(self, name, species):\n",
    "        self.name = name.title()\n",
    "        self.species = species.title()\n",
    "        \n",
    "    def __str__(self):\n",
    "        return f\"{self.name} the {self.species}\"\n",
    "\n",
    "\n",
    "leo = Animal('Leo', 'lion')\n",
    "\n",
    "print(leo) # Leo the Lion\n",
    "\n",
    "\n",
    "buddy = Animal('Buddy', 'dog')\n",
    "print(buddy) # Buddy the Dog\n",
    "\n",
    "me = Animal('Brian', 'human')\n",
    "print(me)"
   ]
  },
  {
   "cell_type": "code",
   "execution_count": 192,
   "metadata": {},
   "outputs": [
    {
     "name": "stdout",
     "output_type": "stream",
     "text": [
      "Help on class Animal in module __main__:\n",
      "\n",
      "class Animal(builtins.object)\n",
      " |  Animal(name, species)\n",
      " |  \n",
      " |  Methods defined here:\n",
      " |  \n",
      " |  __init__(self, name, species)\n",
      " |      Initialize self.  See help(type(self)) for accurate signature.\n",
      " |  \n",
      " |  __str__(self)\n",
      " |      Return str(self).\n",
      " |  \n",
      " |  ----------------------------------------------------------------------\n",
      " |  Data descriptors defined here:\n",
      " |  \n",
      " |  __dict__\n",
      " |      dictionary for instance variables (if defined)\n",
      " |  \n",
      " |  __weakref__\n",
      " |      list of weak references to the object (if defined)\n",
      "\n"
     ]
    }
   ],
   "source": [
    "help(Animal)"
   ]
  },
  {
   "cell_type": "markdown",
   "metadata": {},
   "source": [
    "## Inheritance <br>\n",
    "<p>You can create a child-parent relationship between two classes by using inheritance. What this allows you to do is have overriding methods, but also inherit traits from the parent class. Think of it as an actual parent and child, the child will inherit the parent's genes, as will the classes in OOP</p>"
   ]
  },
  {
   "cell_type": "markdown",
   "metadata": {},
   "source": [
    "##### Syntax for Inheriting from a Parent Class"
   ]
  },
  {
   "cell_type": "code",
   "execution_count": 193,
   "metadata": {},
   "outputs": [],
   "source": [
    "# Syntax: class Child(Parent):\n",
    "\n",
    "class Rectangle: # Parent Class\n",
    "    sides = 4 # Class Attribute\n",
    "    \n",
    "    def __init__(self, length, width):\n",
    "        self.length = length\n",
    "        self.width = width\n",
    "        \n",
    "    def __str__(self):\n",
    "        return f\"Length: {self.length} x Width: {self.width}\"\n",
    "    \n",
    "    def area(self):\n",
    "        return self.length * self.width\n",
    "    \n",
    "    \n",
    "class Square(Rectangle): # Child Class (Parent)\n",
    "    pass"
   ]
  },
  {
   "cell_type": "code",
   "execution_count": 195,
   "metadata": {},
   "outputs": [
    {
     "name": "stdout",
     "output_type": "stream",
     "text": [
      "Help on class Square in module __main__:\n",
      "\n",
      "class Square(Rectangle)\n",
      " |  Square(length, width)\n",
      " |  \n",
      " |  Method resolution order:\n",
      " |      Square\n",
      " |      Rectangle\n",
      " |      builtins.object\n",
      " |  \n",
      " |  Methods inherited from Rectangle:\n",
      " |  \n",
      " |  __init__(self, length, width)\n",
      " |      Initialize self.  See help(type(self)) for accurate signature.\n",
      " |  \n",
      " |  __str__(self)\n",
      " |      Return str(self).\n",
      " |  \n",
      " |  area(self)\n",
      " |  \n",
      " |  ----------------------------------------------------------------------\n",
      " |  Data descriptors inherited from Rectangle:\n",
      " |  \n",
      " |  __dict__\n",
      " |      dictionary for instance variables (if defined)\n",
      " |  \n",
      " |  __weakref__\n",
      " |      list of weak references to the object (if defined)\n",
      " |  \n",
      " |  ----------------------------------------------------------------------\n",
      " |  Data and other attributes inherited from Rectangle:\n",
      " |  \n",
      " |  sides = 4\n",
      "\n"
     ]
    }
   ],
   "source": [
    "help(Square)"
   ]
  },
  {
   "cell_type": "code",
   "execution_count": 198,
   "metadata": {},
   "outputs": [
    {
     "name": "stdout",
     "output_type": "stream",
     "text": [
      "Length: 10 x Width: 20\n",
      "200\n",
      "My rectangle has 4 sides\n"
     ]
    }
   ],
   "source": [
    "my_rectangle = Rectangle(10, 20)\n",
    "print(my_rectangle)\n",
    "print(my_rectangle.area())\n",
    "print(f\"My rectangle has {my_rectangle.sides} sides\")"
   ]
  },
  {
   "cell_type": "code",
   "execution_count": 202,
   "metadata": {},
   "outputs": [
    {
     "name": "stdout",
     "output_type": "stream",
     "text": [
      "Length: 10 x Width: 10\n",
      "100\n",
      "My square has 4 sides\n"
     ]
    }
   ],
   "source": [
    "my_square = Square(10, 10)\n",
    "print(my_square)\n",
    "print(my_square.area())\n",
    "print(f\"My square has {my_square.sides} sides\")"
   ]
  },
  {
   "cell_type": "markdown",
   "metadata": {},
   "source": [
    "##### The \\__init\\__() Method for a Child Class - super()"
   ]
  },
  {
   "cell_type": "code",
   "execution_count": 217,
   "metadata": {
    "scrolled": false
   },
   "outputs": [
    {
     "name": "stdout",
     "output_type": "stream",
     "text": [
      "Length: 10 x Width: 20 Perimeter: 60\n",
      "My rectangle has a black 1px border\n",
      "200\n",
      "My rectangle has 4 sides\n",
      "--------------------------------------------------\n",
      "Length: 10 x Width: 10 Perimeter: 40\n",
      "My square has a black 1px border\n",
      "100\n",
      "My square has 4 sides\n",
      "True\n"
     ]
    }
   ],
   "source": [
    "class Rectangle: # Parent Class\n",
    "    sides = 4 # Class Attribute\n",
    "    \n",
    "    def __init__(self, length, width):\n",
    "        self.length = length\n",
    "        self.width = width\n",
    "        self.border_color = 'black'\n",
    "        self.border_width = '1px'\n",
    "        \n",
    "    def __str__(self):\n",
    "        return f\"Length: {self.length} x Width: {self.width} Perimeter: {self.perimeter()}\"\n",
    "    \n",
    "    def area(self):\n",
    "        return self.length * self.width\n",
    "    \n",
    "    def perimeter(self):\n",
    "        return 2 * self.length + 2 * self.width\n",
    "    \n",
    "    \n",
    "class Square(Rectangle): # Child Class (Parent)\n",
    "    def __init__(self, side):\n",
    "        super().__init__(side, side)\n",
    "        self.all_sides_equal = True\n",
    "        \n",
    "        \n",
    "my_rectangle = Rectangle(10, 20)\n",
    "\n",
    "print(my_rectangle)\n",
    "print(f\"My rectangle has a {my_rectangle.border_color} {my_rectangle.border_width} border\")\n",
    "print(my_rectangle.area())\n",
    "print(f\"My rectangle has {my_rectangle.sides} sides\")\n",
    "\n",
    "print('-'*50)\n",
    "\n",
    "my_square = Square(10)\n",
    "print(my_square)\n",
    "print(f\"My square has a {my_square.border_color} {my_square.border_width} border\")\n",
    "\n",
    "print(my_square.area())\n",
    "print(f\"My square has {my_square.sides} sides\")\n",
    "print(my_square.all_sides_equal)"
   ]
  },
  {
   "cell_type": "code",
   "execution_count": 218,
   "metadata": {},
   "outputs": [
    {
     "name": "stdout",
     "output_type": "stream",
     "text": [
      "Length: 10 x Width: 5 Perimeter: 30\n"
     ]
    }
   ],
   "source": [
    "class Triangle(Rectangle):\n",
    "    sides = 3 # Overriding the class attribute\n",
    "    \n",
    "    def __init__(self, base, height):\n",
    "        super().__init__(base, height)\n",
    "        \n",
    "    # Completely override Rectangle's perimeter method\n",
    "    def perimeter(self):\n",
    "        return self.length * 3\n",
    "    \n",
    "    # Override the Rectangle's area method, but still use it's method in this method\n",
    "    def area(self):\n",
    "        rectangle_area = super().area()\n",
    "        return rectangle_area / 2\n",
    "    \n",
    "my_triangle = Triangle(10, 5)\n",
    "print(my_triangle)"
   ]
  },
  {
   "cell_type": "code",
   "execution_count": 219,
   "metadata": {
    "scrolled": true
   },
   "outputs": [
    {
     "data": {
      "text/plain": [
       "25.0"
      ]
     },
     "execution_count": 219,
     "metadata": {},
     "output_type": "execute_result"
    }
   ],
   "source": [
    "my_triangle.area()"
   ]
  },
  {
   "cell_type": "code",
   "execution_count": 221,
   "metadata": {},
   "outputs": [
    {
     "name": "stdout",
     "output_type": "stream",
     "text": [
      "Congrats on purchasing Frankenstein by Mary Shelley for $13.98\n"
     ]
    }
   ],
   "source": [
    "class Book:\n",
    "    def __init__(self, title, author, num_of_pages, price):\n",
    "        self.title = title\n",
    "        self.author = author\n",
    "        self.num_of_pages = num_of_pages\n",
    "        self.price = price\n",
    "        self.current_page = 0\n",
    "        print(f\"Congrats on purchasing {title} by {author} for ${price:.2f}\")\n",
    "        \n",
    "    def read(self, num_pages):\n",
    "        self.current_page += num_pages\n",
    "        if self.current_page >= self.num_of_pages:\n",
    "            print(f\"Congrats on finishing {self.title}\")\n",
    "            self.current_page = 0\n",
    "        else:\n",
    "            print(f\"You are currently on page {self.current_page} of {self.title}. There are {self.num_of_pages - self.current_page} pages left\")\n",
    "\n",
    "    def __str__(self):\n",
    "        return f\"{self.title} by {self.author}\"\n",
    "    \n",
    "class Ebook(Book):\n",
    "    \n",
    "    def email(self, recipient):\n",
    "        print(f\"Dear {recipient},\\n\\tPlease enjoy this digital copy of {self}\")\n",
    "        \n",
    "        \n",
    "my_first_ebook = Ebook('Frankenstein', 'Mary Shelley', 456, 13.98)"
   ]
  },
  {
   "cell_type": "code",
   "execution_count": 222,
   "metadata": {},
   "outputs": [
    {
     "name": "stdout",
     "output_type": "stream",
     "text": [
      "Dear Sarah,\n",
      "\tPlease enjoy this digital copy of Frankenstein by Mary Shelley\n"
     ]
    }
   ],
   "source": [
    "my_first_ebook.email('Sarah')"
   ]
  },
  {
   "cell_type": "code",
   "execution_count": 224,
   "metadata": {},
   "outputs": [
    {
     "name": "stdout",
     "output_type": "stream",
     "text": [
      "You are currently on page 200 of Frankenstein. There are 256 pages left\n",
      "You are currently on page 297 of Frankenstein. There are 159 pages left\n"
     ]
    }
   ],
   "source": [
    "my_first_ebook.read(100)\n",
    "my_first_ebook.read(97)"
   ]
  },
  {
   "cell_type": "code",
   "execution_count": 247,
   "metadata": {},
   "outputs": [],
   "source": [
    "class Animal:\n",
    "    def __init__(self, name, species):\n",
    "        self.name = name\n",
    "        self.species = species\n",
    "        self.x_position = 0\n",
    "        self.y_position = 0\n",
    "        \n",
    "    def __str__(self):\n",
    "        return f\"{self.name} the {self.species}\"\n",
    "    \n",
    "    def eat(self):\n",
    "        print(f\"{self} is eating\")\n",
    "        \n",
    "    def sleep(self):\n",
    "        print(f\"{self} is sleepling\")\n",
    "        \n",
    "    def play(self):\n",
    "        print(f\"{self} is playing\")\n",
    "        \n",
    "    def move(self, x_move, y_move):\n",
    "        self.x_position += x_move\n",
    "        self.y_position += y_move\n",
    "        print(f\"{self} is now at {self.x_position}, {self.y_position}\")\n",
    "        \n",
    "        \n",
    "        \n",
    "class Fish(Animal):\n",
    "    def __init__(self, name):\n",
    "        super().__init__(name, 'Fish')\n",
    "        \n",
    "    def swim(self):\n",
    "        print(f\"{self} is swimming\")\n",
    "        \n",
    "        \n",
    "class Bird(Animal):\n",
    "    def __init__(self, name):\n",
    "        super().__init__(name, 'Bird')\n",
    "        \n",
    "    def fly(self):\n",
    "        print(f\"{self} is flying\")\n",
    "        \n",
    "class Lion(Animal):\n",
    "    def __init__(self, name):\n",
    "        super().__init__(name, 'Lion')\n",
    "        \n",
    "    def hunt(self):\n",
    "        print(f\"{self} is hunting\")\n",
    "        \n",
    "        \n",
    "        \n",
    "nemo = Fish('Nemo')\n",
    "zazu = Bird('Zazu')\n",
    "simba = Lion('Simba')\n",
    "\n",
    "animals = [nemo, zazu, simba]"
   ]
  },
  {
   "cell_type": "code",
   "execution_count": 248,
   "metadata": {},
   "outputs": [
    {
     "name": "stdout",
     "output_type": "stream",
     "text": [
      "Nemo the Fish is sleepling\n",
      "Zazu the Bird is sleepling\n",
      "Simba the Lion is sleepling\n"
     ]
    }
   ],
   "source": [
    "for animal in animals:\n",
    "    animal.sleep()"
   ]
  },
  {
   "cell_type": "code",
   "execution_count": 249,
   "metadata": {},
   "outputs": [
    {
     "name": "stdout",
     "output_type": "stream",
     "text": [
      "Nemo the Fish is swimming\n"
     ]
    }
   ],
   "source": [
    "nemo.swim()"
   ]
  },
  {
   "cell_type": "code",
   "execution_count": 250,
   "metadata": {},
   "outputs": [
    {
     "name": "stdout",
     "output_type": "stream",
     "text": [
      "Simba the Lion is hunting\n"
     ]
    }
   ],
   "source": [
    "simba.hunt()"
   ]
  },
  {
   "cell_type": "code",
   "execution_count": 251,
   "metadata": {},
   "outputs": [
    {
     "name": "stdout",
     "output_type": "stream",
     "text": [
      "Simba the Lion is now at 2, 3\n",
      "Simba the Lion is now at 5, 6\n"
     ]
    }
   ],
   "source": [
    "simba.move(2, 3)\n",
    "simba.move(3, 3)"
   ]
  },
  {
   "cell_type": "code",
   "execution_count": null,
   "metadata": {},
   "outputs": [],
   "source": []
  },
  {
   "cell_type": "markdown",
   "metadata": {},
   "source": [
    "#### In-class Exercise 2"
   ]
  },
  {
   "cell_type": "markdown",
   "metadata": {},
   "source": [
    "Create a Car class that add `color`, `make`, and `model` on instantiation and has a drive and fill up method. Then create a Ford class that inherits from the Car class where all `make`s are 'Ford'"
   ]
  },
  {
   "cell_type": "code",
   "execution_count": 261,
   "metadata": {
    "scrolled": true
   },
   "outputs": [
    {
     "name": "stdout",
     "output_type": "stream",
     "text": [
      "blue Ford Focus\n",
      "blue Ford Focus has driven 10 miles\n",
      "Filling up the blue Ford Focus\n",
      "red Toyota Camry has driven 15 miles\n",
      "Filling up the red Toyota Camry\n",
      "gray Tesla Model X has driven 20 miles\n",
      "gray Tesla Model X is charging...\n"
     ]
    }
   ],
   "source": [
    "class Car:\n",
    "    def __init__(self, color, make, model):\n",
    "        self.color = color\n",
    "        self.make = make\n",
    "        self.model = model\n",
    "        \n",
    "    def __str__(self):\n",
    "        return f\"{self.color} {self.make} {self.model}\"\n",
    "    \n",
    "    def drive(self, miles):\n",
    "        print(f\"{self} has driven {miles} miles\")\n",
    "        \n",
    "    def fill_up(self):\n",
    "        print(f\"Filling up the {self}\")\n",
    "        \n",
    "        \n",
    "        \n",
    "class Ford(Car):\n",
    "    def __init__(self, color, model):\n",
    "        super().__init__(color, 'Ford', model)\n",
    "\n",
    "class Toyota(Car):\n",
    "    def __init__(self, color, model):\n",
    "        super().__init__(color, 'Toyota', model)\n",
    "        \n",
    "class Tesla(Car):\n",
    "    def __init__(self, color, model):\n",
    "        super().__init__(color, 'Tesla', model)\n",
    "        \n",
    "    def fill_up(self):\n",
    "        print(f\"{self} is charging...\")\n",
    "        \n",
    "        \n",
    "\n",
    "my_car = Ford('blue', 'Focus')\n",
    "\n",
    "print(my_car)\n",
    "\n",
    "my_car.drive(10) # 'blue Ford Focus is driving'\n",
    "\n",
    "my_car.fill_up() # 'Filling up blue Ford Focus'\n",
    "\n",
    "my_other_car = Toyota('red', 'Camry')\n",
    "\n",
    "my_other_car.drive(15)\n",
    "my_other_car.fill_up()\n",
    "\n",
    "\n",
    "my_electric_car = Tesla('gray', 'Model X')\n",
    "my_electric_car.drive(20)\n",
    "my_electric_car.fill_up()"
   ]
  },
  {
   "cell_type": "markdown",
   "metadata": {},
   "source": [
    "## Modules"
   ]
  },
  {
   "cell_type": "markdown",
   "metadata": {},
   "source": [
    "##### Importing Entire Modules"
   ]
  },
  {
   "cell_type": "code",
   "execution_count": 262,
   "metadata": {},
   "outputs": [
    {
     "name": "stdout",
     "output_type": "stream",
     "text": [
      "<module 'math' (built-in)>\n"
     ]
    }
   ],
   "source": [
    "# import name_of_module\n",
    "import math\n",
    "\n",
    "print(math)"
   ]
  },
  {
   "cell_type": "code",
   "execution_count": 266,
   "metadata": {},
   "outputs": [
    {
     "name": "stdout",
     "output_type": "stream",
     "text": [
      "120\n",
      "10.0\n",
      "3.141592653589793\n"
     ]
    }
   ],
   "source": [
    "# Synta for accessing functions, classes, variables, etc:\n",
    "# module_name.var_name\n",
    "\n",
    "print(math.factorial(5))\n",
    "print(math.sqrt(100))\n",
    "\n",
    "print(math.pi)"
   ]
  },
  {
   "cell_type": "code",
   "execution_count": 268,
   "metadata": {},
   "outputs": [
    {
     "data": {
      "text/plain": [
       "62.83185307179586"
      ]
     },
     "execution_count": 268,
     "metadata": {},
     "output_type": "execute_result"
    }
   ],
   "source": [
    "def get_circumference(radius):\n",
    "    return 2 * math.pi * radius\n",
    "\n",
    "get_circumference(10)"
   ]
  },
  {
   "cell_type": "code",
   "execution_count": 271,
   "metadata": {},
   "outputs": [
    {
     "data": {
      "text/plain": [
       "3628800"
      ]
     },
     "execution_count": 271,
     "metadata": {},
     "output_type": "execute_result"
    }
   ],
   "source": [
    "# Must include module_name if you import the entire module\n",
    "math.factorial(10)"
   ]
  },
  {
   "cell_type": "markdown",
   "metadata": {},
   "source": [
    "##### Importing Methods Only"
   ]
  },
  {
   "cell_type": "code",
   "execution_count": 274,
   "metadata": {},
   "outputs": [
    {
     "name": "stdout",
     "output_type": "stream",
     "text": [
      "<function mean at 0x000001B698406A70>\n",
      "<function mode at 0x000001B697DD4E50>\n"
     ]
    }
   ],
   "source": [
    "# from module_name import class, function, constant, etc.\n",
    "from statistics import mean, mode\n",
    "\n",
    "print(mean)\n",
    "print(mode)"
   ]
  },
  {
   "cell_type": "code",
   "execution_count": 279,
   "metadata": {},
   "outputs": [],
   "source": [
    "# When importing parts of module, we DO NOT have access to module name and methods from module_name\n",
    "# print(statistics)\n",
    "# print(statistics.mean)\n",
    "# print(statistics.mode)\n",
    "# NameError: statistics is not defined"
   ]
  },
  {
   "cell_type": "code",
   "execution_count": 281,
   "metadata": {},
   "outputs": [
    {
     "name": "stdout",
     "output_type": "stream",
     "text": [
      "91.8\n",
      "93\n"
     ]
    }
   ],
   "source": [
    "my_scores = [99, 97, 92, 93, 89, 86, 93, 86, 90, 93]\n",
    "\n",
    "print(mean(my_scores))\n",
    "print(mode(my_scores))"
   ]
  },
  {
   "cell_type": "markdown",
   "metadata": {},
   "source": [
    "##### Using the 'as' Keyword"
   ]
  },
  {
   "cell_type": "code",
   "execution_count": 289,
   "metadata": {},
   "outputs": [
    {
     "name": "stdout",
     "output_type": "stream",
     "text": [
      "<bound method Random.randint of <random.Random object at 0x000001B691335F90>>\n",
      "10\n"
     ]
    }
   ],
   "source": [
    "# from module import function as f\n",
    "from random import randint as ri\n",
    "\n",
    "print(ri)\n",
    "print(ri(1,10))"
   ]
  },
  {
   "cell_type": "code",
   "execution_count": 293,
   "metadata": {},
   "outputs": [
    {
     "name": "stdout",
     "output_type": "stream",
     "text": [
      "[9, 12, 3, 4, 4, 17, 11, 10, 18, 12]\n"
     ]
    }
   ],
   "source": [
    "randoms = [ri(1,20) for _ in range(10)]\n",
    "print(randoms)"
   ]
  },
  {
   "cell_type": "code",
   "execution_count": 294,
   "metadata": {},
   "outputs": [
    {
     "name": "stdout",
     "output_type": "stream",
     "text": [
      "<module 'collections' from 'C:\\\\Users\\\\bstan\\\\anaconda3\\\\lib\\\\collections\\\\__init__.py'>\n"
     ]
    }
   ],
   "source": [
    "# import module as new_name\n",
    "import collections as col\n",
    "\n",
    "print(col)"
   ]
  },
  {
   "cell_type": "code",
   "execution_count": 296,
   "metadata": {},
   "outputs": [
    {
     "name": "stdout",
     "output_type": "stream",
     "text": [
      "<class 'collections.Counter'>\n",
      "Counter({' ': 9, 's': 5, 'e': 4, 't': 4, 'i': 4, 'a': 4, 'n': 4, 'h': 3, 'l': 2, 'o': 1, 'c': 1, 'I': 1, 'm': 1, 'p': 1, 'g': 1})\n"
     ]
    }
   ],
   "source": [
    "print(col.Counter)\n",
    "\n",
    "letter_count = col.Counter('hello this is a sentence that I am passing in')\n",
    "print(letter_count)"
   ]
  },
  {
   "cell_type": "code",
   "execution_count": null,
   "metadata": {},
   "outputs": [],
   "source": [
    "# import numpy as np\n",
    "# import pandas as pd\n",
    "# import matplotlib.pylplot as plt\n"
   ]
  },
  {
   "cell_type": "code",
   "execution_count": 297,
   "metadata": {},
   "outputs": [
    {
     "name": "stdout",
     "output_type": "stream",
     "text": [
      "This is the test_module.py file and is currently being executed\n"
     ]
    }
   ],
   "source": [
    "# Using VS Code\n",
    "import test_module"
   ]
  },
  {
   "cell_type": "code",
   "execution_count": 298,
   "metadata": {},
   "outputs": [
    {
     "name": "stdout",
     "output_type": "stream",
     "text": [
      "Hello Brian, how are you doing?\n"
     ]
    }
   ],
   "source": [
    "test_module.greet('brian')"
   ]
  },
  {
   "cell_type": "code",
   "execution_count": 299,
   "metadata": {},
   "outputs": [
    {
     "name": "stdout",
     "output_type": "stream",
     "text": [
      "Goodbye Sarah, it was a pleasure seeing you.\n"
     ]
    }
   ],
   "source": [
    "test_module.leave('sarah')"
   ]
  },
  {
   "cell_type": "code",
   "execution_count": 1,
   "metadata": {},
   "outputs": [
    {
     "name": "stdout",
     "output_type": "stream",
     "text": [
      "This is the test_module.py file and is currently being executed\n"
     ]
    }
   ],
   "source": [
    "from test_module import greet, leave"
   ]
  },
  {
   "cell_type": "code",
   "execution_count": 2,
   "metadata": {},
   "outputs": [
    {
     "name": "stdout",
     "output_type": "stream",
     "text": [
      "Hello Kevin, how are you doing?\n"
     ]
    }
   ],
   "source": [
    "greet('kevin')"
   ]
  }
 ],
 "metadata": {
  "kernelspec": {
   "display_name": "Python 3 (ipykernel)",
   "language": "python",
   "name": "python3"
  },
  "language_info": {
   "codemirror_mode": {
    "name": "ipython",
    "version": 3
   },
   "file_extension": ".py",
   "mimetype": "text/x-python",
   "name": "python",
   "nbconvert_exporter": "python",
   "pygments_lexer": "ipython3",
   "version": "3.10.9"
  }
 },
 "nbformat": 4,
 "nbformat_minor": 2
}
