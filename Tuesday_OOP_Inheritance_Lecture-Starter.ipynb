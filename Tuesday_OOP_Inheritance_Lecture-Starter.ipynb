{
 "cells": [
  {
   "cell_type": "markdown",
   "metadata": {},
   "source": [
    "# Object-Oriented-Programming (OOP)"
   ]
  },
  {
   "cell_type": "markdown",
   "metadata": {},
   "source": [
    "## Tasks Today:\n",
    "\n",
    "   \n",
    "1) <b>Dunder Methods</b> <br>\n",
    " &nbsp;&nbsp;&nbsp;&nbsp; a) The \\__str\\__() Method <br>\n",
    " &nbsp;&nbsp;&nbsp;&nbsp; b) The \\__repr\\__() Method <br>\n",
    " &nbsp;&nbsp;&nbsp;&nbsp; c) Other Magic Methods <br>\n",
    " &nbsp;&nbsp;&nbsp;&nbsp; d) In-Class Exercise #1 - Create a class Animal that displays the species and animal name when printed <br>  \n",
    "2) <b>Inheritance</b> <br>\n",
    " &nbsp;&nbsp;&nbsp;&nbsp; a) Syntax for Inheriting from a Parent Class <br>\n",
    " &nbsp;&nbsp;&nbsp;&nbsp; b) The \\__init\\__() Method for a Child Class (super()) <br>\n",
    " &nbsp;&nbsp;&nbsp;&nbsp; c) Defining Attributes and Methods for the Child Class <br>\n",
    " &nbsp;&nbsp;&nbsp;&nbsp; d) Method Overriding <br>\n",
    " &nbsp;&nbsp;&nbsp;&nbsp; e) In-Class Exercise #2 - Create a class 'Ford' that inherits from 'Car' class and initialize it as a Blue Ford Explorer with 4 wheels using the super() method <br>\n",
    "3) <b>Modules</b> <br>\n",
    " &nbsp;&nbsp;&nbsp;&nbsp; a) Importing Modules<br>\n",
    " &nbsp;&nbsp;&nbsp;&nbsp; b) Importing from modules <br>\n",
    " &nbsp;&nbsp;&nbsp;&nbsp; c) Aliasing <br>\n",
    " &nbsp;&nbsp;&nbsp;&nbsp; d) Creating Modules <br>\n"
   ]
  },
  {
   "cell_type": "markdown",
   "metadata": {},
   "source": [
    "### Warm Up"
   ]
  },
  {
   "cell_type": "markdown",
   "metadata": {},
   "source": [
    "Create a class for a Book that has instance attributes for `title`, `author`, `num_of_pages`, and `price`. Each book instance should also have a `current_page` attribute that starts at 0. Add a method called `read` that takes in number of pages. The method should update the what the current page is. If the `current_page` goes over the `num_of_pages`, print that the book is finished and reset the `current_page` to 0"
   ]
  },
  {
   "cell_type": "code",
   "execution_count": 1,
   "metadata": {},
   "outputs": [],
   "source": [
    "class Book:\n",
    "    def __init__(self, title, author, num_of_pages, price):\n",
    "        self.title = title\n",
    "        self.author = author\n",
    "        self.num_of_pages = num_of_pages\n",
    "        self.price = price\n",
    "        self.current_page = 0\n",
    "        print(f\"Congrats on purchasing {title} by {author} for ${price:.2f}\")\n",
    "        \n",
    "    def read(self, num_pages):\n",
    "        self.current_page += num_pages\n",
    "        if self.current_page >= self.num_of_pages:\n",
    "            print(f\"Congrats on finishing {self.title}\")\n",
    "            self.current_page = 0\n",
    "        else:\n",
    "            print(f\"You are currently on page {self.current_page} of {self.title}. There are {self.num_of_pages - self.current_page} pages left\")\n"
   ]
  },
  {
   "cell_type": "code",
   "execution_count": 2,
   "metadata": {},
   "outputs": [
    {
     "name": "stdout",
     "output_type": "stream",
     "text": [
      "Congrats on purchasing The Midnight Library by Matt Haig for $26.00\n",
      "You are currently on page 45 of The Midnight Library. There are 243 pages left\n",
      "You are currently on page 104 of The Midnight Library. There are 184 pages left\n",
      "You are currently on page 146 of The Midnight Library. There are 142 pages left\n",
      "You are currently on page 230 of The Midnight Library. There are 58 pages left\n",
      "Congrats on finishing The Midnight Library\n"
     ]
    }
   ],
   "source": [
    "book = Book(\"The Midnight Library\", \"Matt Haig\", 288, 26.00)\n",
    "book.read(45)\n",
    "book.read(59)\n",
    "book.read(42)\n",
    "book.read(84)\n",
    "book.read(62)"
   ]
  },
  {
   "cell_type": "code",
   "execution_count": 3,
   "metadata": {},
   "outputs": [
    {
     "name": "stdout",
     "output_type": "stream",
     "text": [
      "Congrats on purchasing Range by David Epstein for $14.99\n",
      "You are currently on page 123 of Range. There are 168 pages left\n",
      "You are currently on page 223 of Range. There are 68 pages left\n",
      "You are currently on page 283 of Range. There are 8 pages left\n",
      "Congrats on finishing Range\n",
      "You are currently on page 10 of Range. There are 281 pages left\n"
     ]
    }
   ],
   "source": [
    "book2 = Book(\"Range\", \"David Epstein\", 291, 14.99)\n",
    "\n",
    "book2.read(123)\n",
    "book2.read(100)\n",
    "book2.read(60)\n",
    "book2.read(8)\n",
    "book2.read(10)"
   ]
  },
  {
   "cell_type": "code",
   "execution_count": 4,
   "metadata": {},
   "outputs": [
    {
     "name": "stdout",
     "output_type": "stream",
     "text": [
      "<__main__.Book object at 0x000001B69547E170>\n",
      "<__main__.Book object at 0x000001B6953E7F70>\n"
     ]
    }
   ],
   "source": [
    "library = [book, book2]\n",
    "\n",
    "for b in library:\n",
    "    print(b)"
   ]
  },
  {
   "cell_type": "markdown",
   "metadata": {},
   "source": [
    "## Dunder Methods"
   ]
  },
  {
   "cell_type": "code",
   "execution_count": 5,
   "metadata": {},
   "outputs": [
    {
     "data": {
      "text/plain": [
       "'123'"
      ]
     },
     "execution_count": 5,
     "metadata": {},
     "output_type": "execute_result"
    }
   ],
   "source": [
    "number = 123\n",
    "\n",
    "str(number)"
   ]
  },
  {
   "cell_type": "code",
   "execution_count": 6,
   "metadata": {},
   "outputs": [
    {
     "data": {
      "text/plain": [
       "'123'"
      ]
     },
     "execution_count": 6,
     "metadata": {},
     "output_type": "execute_result"
    }
   ],
   "source": [
    "int.__str__(number)"
   ]
  },
  {
   "cell_type": "code",
   "execution_count": 7,
   "metadata": {},
   "outputs": [
    {
     "name": "stdout",
     "output_type": "stream",
     "text": [
      "123\n"
     ]
    }
   ],
   "source": [
    "print(number)"
   ]
  },
  {
   "cell_type": "markdown",
   "metadata": {},
   "source": [
    "#### \\__str\\__()"
   ]
  },
  {
   "cell_type": "code",
   "execution_count": 27,
   "metadata": {},
   "outputs": [],
   "source": [
    "class Car:\n",
    "    def __init__(self, color, make, model):\n",
    "        self.color = color\n",
    "        self.make = make\n",
    "        self.model = model\n",
    "        \n",
    "    def __str__(self):\n",
    "        return f\"{self.color} {self.make} {self.model}\".title()\n",
    "    \n",
    "    def drive(self, num_miles):\n",
    "        print(f\"The {self} has driven {num_miles} miles\")\n",
    "        \n",
    "    \n",
    "car1 = Car('red', 'toyota', 'camry')\n",
    "car2 = Car('blue', 'honda', 'civic')"
   ]
  },
  {
   "cell_type": "code",
   "execution_count": 28,
   "metadata": {},
   "outputs": [
    {
     "name": "stdout",
     "output_type": "stream",
     "text": [
      "Red Toyota Camry\n",
      "Blue Honda Civic\n"
     ]
    }
   ],
   "source": [
    "print(car1)\n",
    "print(car2)"
   ]
  },
  {
   "cell_type": "code",
   "execution_count": 29,
   "metadata": {},
   "outputs": [
    {
     "data": {
      "text/plain": [
       "'Red Toyota Camry'"
      ]
     },
     "execution_count": 29,
     "metadata": {},
     "output_type": "execute_result"
    }
   ],
   "source": [
    "str(car1)"
   ]
  },
  {
   "cell_type": "code",
   "execution_count": 30,
   "metadata": {},
   "outputs": [
    {
     "data": {
      "text/plain": [
       "'Blue Honda Civic'"
      ]
     },
     "execution_count": 30,
     "metadata": {},
     "output_type": "execute_result"
    }
   ],
   "source": [
    "str(car2)"
   ]
  },
  {
   "cell_type": "code",
   "execution_count": 32,
   "metadata": {},
   "outputs": [
    {
     "name": "stdout",
     "output_type": "stream",
     "text": [
      "The Red Toyota Camry has driven 10 miles\n",
      "The Blue Honda Civic has driven 24 miles\n"
     ]
    }
   ],
   "source": [
    "car1.drive(10)\n",
    "car2.drive(24)"
   ]
  },
  {
   "cell_type": "code",
   "execution_count": 35,
   "metadata": {
    "scrolled": true
   },
   "outputs": [
    {
     "name": "stdout",
     "output_type": "stream",
     "text": [
      "Congrats on purchasing The Midnight Library by Matt Haig for $26.00\n",
      "Congrats on purchasing Harry Potter by JK Rowling for $34.00\n",
      "====================================================================================================\n",
      "My Library:\n",
      "The Midnight Library by Matt Haig\n",
      "Harry Potter by JK Rowling\n"
     ]
    }
   ],
   "source": [
    "class Book:\n",
    "    def __init__(self, title, author, num_of_pages, price):\n",
    "        self.title = title\n",
    "        self.author = author\n",
    "        self.num_of_pages = num_of_pages\n",
    "        self.price = price\n",
    "        self.current_page = 0\n",
    "        print(f\"Congrats on purchasing {title} by {author} for ${price:.2f}\")\n",
    "        \n",
    "    def __str__(self):\n",
    "        return f\"{self.title} by {self.author}\"\n",
    "        \n",
    "    def read(self, num_pages):\n",
    "        self.current_page += num_pages\n",
    "        if self.current_page >= self.num_of_pages:\n",
    "            print(f\"Congrats on finishing {self.title}\")\n",
    "            self.current_page = 0\n",
    "        else:\n",
    "            print(f\"You are currently on page {self.current_page} of {self.title}. There are {self.num_of_pages - self.current_page} pages left\")\n",
    "\n",
    "book1 = Book(\"The Midnight Library\", \"Matt Haig\", 288, 26.00)\n",
    "book2 = Book(\"Harry Potter\", \"JK Rowling\", 876, 34.00)\n",
    "\n",
    "print('='*100)\n",
    "\n",
    "library = [book1, book2]\n",
    "\n",
    "print('My Library:')\n",
    "for b in library:\n",
    "    print(b)"
   ]
  },
  {
   "cell_type": "markdown",
   "metadata": {},
   "source": [
    "#### \\__repr\\__()"
   ]
  },
  {
   "cell_type": "code",
   "execution_count": 40,
   "metadata": {
    "scrolled": true
   },
   "outputs": [],
   "source": [
    "class Car:\n",
    "    def __init__(self, color, make, model):\n",
    "        self.color = color.title()\n",
    "        self.make = make.title()\n",
    "        self.model = model.title()\n",
    "        \n",
    "    # Method that will return end user readable info\n",
    "    def __str__(self):\n",
    "        return f\"{self.color} {self.make} {self.model}\"\n",
    "    \n",
    "    # Method that will return the machine readable (developer friendly) info\n",
    "    def __repr__(self):\n",
    "        return f\"<Car|{self.make} {self.model}>\"\n",
    "    \n",
    "    def drive(self, num_miles):\n",
    "        print(f\"The {self} has driven {num_miles} miles\")\n",
    "        \n",
    "        \n",
    "car1 = Car('red', 'toyota', 'camry')\n",
    "car2 = Car('blue', 'honda', 'civic')"
   ]
  },
  {
   "cell_type": "code",
   "execution_count": 41,
   "metadata": {},
   "outputs": [
    {
     "name": "stdout",
     "output_type": "stream",
     "text": [
      "Red Toyota Camry\n",
      "Blue Honda Civic\n"
     ]
    }
   ],
   "source": [
    "print(car1)\n",
    "print(car2)"
   ]
  },
  {
   "cell_type": "code",
   "execution_count": 42,
   "metadata": {},
   "outputs": [
    {
     "data": {
      "text/plain": [
       "<Car|Toyota Camry>"
      ]
     },
     "execution_count": 42,
     "metadata": {},
     "output_type": "execute_result"
    }
   ],
   "source": [
    "car1"
   ]
  },
  {
   "cell_type": "code",
   "execution_count": 43,
   "metadata": {},
   "outputs": [
    {
     "data": {
      "text/plain": [
       "<Car|Honda Civic>"
      ]
     },
     "execution_count": 43,
     "metadata": {},
     "output_type": "execute_result"
    }
   ],
   "source": [
    "car2"
   ]
  },
  {
   "cell_type": "code",
   "execution_count": 45,
   "metadata": {},
   "outputs": [
    {
     "name": "stdout",
     "output_type": "stream",
     "text": [
      "[<Car|Toyota Camry>, <Car|Honda Civic>]\n",
      "Red Toyota Camry\n",
      "Blue Honda Civic\n"
     ]
    }
   ],
   "source": [
    "garage = [car1, car2]\n",
    "print(garage)\n",
    "\n",
    "for car in garage:\n",
    "    print(car)"
   ]
  },
  {
   "cell_type": "code",
   "execution_count": 56,
   "metadata": {},
   "outputs": [
    {
     "name": "stdout",
     "output_type": "stream",
     "text": [
      "[<BlogPost 1|First>, <BlogPost 2|Tuesday>]\n"
     ]
    }
   ],
   "source": [
    "class BlogPost:\n",
    "    id_counter = 1\n",
    "    \n",
    "    def __init__(self, title, body, author):\n",
    "        self.title = title\n",
    "        self.body = body\n",
    "        self.author = author\n",
    "        self.id = BlogPost.id_counter\n",
    "        BlogPost.id_counter += 1\n",
    "        \n",
    "    def __str__(self):\n",
    "        return f\"\"\"\n",
    "        {self.title.title()}\n",
    "        By: {self.author.title()}\n",
    "        {self.body}\n",
    "        \"\"\"\n",
    "    \n",
    "    def __repr__(self):\n",
    "        return f\"<BlogPost {self.id}|{self.title}>\"\n",
    "    \n",
    "    \n",
    "post1 = BlogPost('First', 'This is my very first post, I hope you like it', 'Brian')\n",
    "post2 = BlogPost('Tuesday', 'Today is Tuesday and we are learning some dunder methods', 'Sarah')\n",
    "\n",
    "posts = [post1, post2]\n",
    "print(posts)"
   ]
  },
  {
   "cell_type": "code",
   "execution_count": 57,
   "metadata": {},
   "outputs": [
    {
     "name": "stdout",
     "output_type": "stream",
     "text": [
      "\n",
      "        First\n",
      "        By: Brian\n",
      "        This is my very first post, I hope you like it\n",
      "        \n",
      "\n",
      "        Tuesday\n",
      "        By: Sarah\n",
      "        Today is Tuesday and we are learning some dunder methods\n",
      "        \n"
     ]
    }
   ],
   "source": [
    "for post in posts:\n",
    "    print(post)"
   ]
  },
  {
   "cell_type": "code",
   "execution_count": 58,
   "metadata": {},
   "outputs": [
    {
     "data": {
      "text/plain": [
       "<BlogPost 1|First>"
      ]
     },
     "execution_count": 58,
     "metadata": {},
     "output_type": "execute_result"
    }
   ],
   "source": [
    "post1"
   ]
  },
  {
   "cell_type": "code",
   "execution_count": 59,
   "metadata": {},
   "outputs": [
    {
     "name": "stdout",
     "output_type": "stream",
     "text": [
      "\n",
      "        First\n",
      "        By: Brian\n",
      "        This is my very first post, I hope you like it\n",
      "        \n"
     ]
    }
   ],
   "source": [
    "print(post1)"
   ]
  },
  {
   "cell_type": "code",
   "execution_count": 65,
   "metadata": {},
   "outputs": [
    {
     "name": "stdout",
     "output_type": "stream",
     "text": [
      "[<HotelRoom | 100>, <HotelRoom | 101>, <HotelRoom | 102>, <HotelRoom | 103>, <HotelRoom | 104>, <HotelRoom | 105>, <HotelRoom | 106>, <HotelRoom | 107>, <HotelRoom | 108>, <HotelRoom | 109>, <HotelRoom | 110>, <HotelRoom | 111>, <HotelRoom | 112>, <HotelRoom | 113>, <HotelRoom | 114>, <HotelRoom | 115>, <HotelRoom | 116>, <HotelRoom | 117>, <HotelRoom | 118>, <HotelRoom | 119>]\n"
     ]
    }
   ],
   "source": [
    "# If the __repr__() is defined but the __str__ is not, then __repr__ is used for string conversion (__str__ = __repr__)\n",
    "\n",
    "class HotelRoom:\n",
    "    def __init__(self, room_number):\n",
    "        self.room_number = room_number\n",
    "        self.occupied = False\n",
    "        \n",
    "    def __repr__(self):\n",
    "        return f\"<HotelRoom | {self.room_number}>\"\n",
    "    \n",
    "    \n",
    "hotel = [HotelRoom(num) for num in range(100, 120)]\n",
    "print(hotel)"
   ]
  },
  {
   "cell_type": "code",
   "execution_count": 66,
   "metadata": {
    "scrolled": true
   },
   "outputs": [
    {
     "name": "stdout",
     "output_type": "stream",
     "text": [
      "<HotelRoom | 100>\n",
      "<HotelRoom | 101>\n",
      "<HotelRoom | 102>\n",
      "<HotelRoom | 103>\n",
      "<HotelRoom | 104>\n",
      "<HotelRoom | 105>\n",
      "<HotelRoom | 106>\n",
      "<HotelRoom | 107>\n",
      "<HotelRoom | 108>\n",
      "<HotelRoom | 109>\n",
      "<HotelRoom | 110>\n",
      "<HotelRoom | 111>\n",
      "<HotelRoom | 112>\n",
      "<HotelRoom | 113>\n",
      "<HotelRoom | 114>\n",
      "<HotelRoom | 115>\n",
      "<HotelRoom | 116>\n",
      "<HotelRoom | 117>\n",
      "<HotelRoom | 118>\n",
      "<HotelRoom | 119>\n"
     ]
    }
   ],
   "source": [
    "for room in hotel:\n",
    "    print(room)"
   ]
  },
  {
   "cell_type": "code",
   "execution_count": 62,
   "metadata": {},
   "outputs": [
    {
     "name": "stdout",
     "output_type": "stream",
     "text": [
      "[<__main__.HotelRoom object at 0x000001B6953C96C0>, <__main__.HotelRoom object at 0x000001B6953A1C90>, <__main__.HotelRoom object at 0x000001B6953A07F0>, <__main__.HotelRoom object at 0x000001B6953A1FC0>, <__main__.HotelRoom object at 0x000001B69547ECE0>, <__main__.HotelRoom object at 0x000001B69547EDA0>, <__main__.HotelRoom object at 0x000001B696B0CF40>, <__main__.HotelRoom object at 0x000001B696B0D990>, <__main__.HotelRoom object at 0x000001B696B0F610>, <__main__.HotelRoom object at 0x000001B696B0F8B0>, <__main__.HotelRoom object at 0x000001B696B0C340>, <__main__.HotelRoom object at 0x000001B6953705E0>, <__main__.HotelRoom object at 0x000001B6953E4D30>, <__main__.HotelRoom object at 0x000001B6953E6560>, <__main__.HotelRoom object at 0x000001B6953E5C90>, <__main__.HotelRoom object at 0x000001B69595CA30>, <__main__.HotelRoom object at 0x000001B69595D810>, <__main__.HotelRoom object at 0x000001B69595F310>, <__main__.HotelRoom object at 0x000001B69595C250>, <__main__.HotelRoom object at 0x000001B69595F1F0>]\n"
     ]
    }
   ],
   "source": [
    "# The opposite is not true! if __str__ is there but no __repr__, __repr__ != __str__\n",
    "\n",
    "class HotelRoom:\n",
    "    def __init__(self, room_number):\n",
    "        self.room_number = room_number\n",
    "        self.occupied = False\n",
    "        \n",
    "    def __str__(self):\n",
    "        return f\"Room Number: {self.room_number}\\nOccupied: {self.occupied}\"\n",
    "    \n",
    "    \n",
    "hotel = [HotelRoom(num) for num in range(200, 220)]\n",
    "print(hotel)"
   ]
  },
  {
   "cell_type": "code",
   "execution_count": 64,
   "metadata": {},
   "outputs": [
    {
     "name": "stdout",
     "output_type": "stream",
     "text": [
      "Room Number: 200\n",
      "Occupied: False\n",
      "=================\n",
      "Room Number: 201\n",
      "Occupied: False\n",
      "=================\n",
      "Room Number: 202\n",
      "Occupied: False\n",
      "=================\n",
      "Room Number: 203\n",
      "Occupied: False\n",
      "=================\n",
      "Room Number: 204\n",
      "Occupied: False\n",
      "=================\n",
      "Room Number: 205\n",
      "Occupied: False\n",
      "=================\n",
      "Room Number: 206\n",
      "Occupied: False\n",
      "=================\n",
      "Room Number: 207\n",
      "Occupied: False\n",
      "=================\n",
      "Room Number: 208\n",
      "Occupied: False\n",
      "=================\n",
      "Room Number: 209\n",
      "Occupied: False\n",
      "=================\n",
      "Room Number: 210\n",
      "Occupied: False\n",
      "=================\n",
      "Room Number: 211\n",
      "Occupied: False\n",
      "=================\n",
      "Room Number: 212\n",
      "Occupied: False\n",
      "=================\n",
      "Room Number: 213\n",
      "Occupied: False\n",
      "=================\n",
      "Room Number: 214\n",
      "Occupied: False\n",
      "=================\n",
      "Room Number: 215\n",
      "Occupied: False\n",
      "=================\n",
      "Room Number: 216\n",
      "Occupied: False\n",
      "=================\n",
      "Room Number: 217\n",
      "Occupied: False\n",
      "=================\n",
      "Room Number: 218\n",
      "Occupied: False\n",
      "=================\n",
      "Room Number: 219\n",
      "Occupied: False\n",
      "=================\n"
     ]
    }
   ],
   "source": [
    "for room in hotel:\n",
    "    print(room)\n",
    "    print('=================')"
   ]
  },
  {
   "cell_type": "markdown",
   "metadata": {},
   "source": [
    "#### \\__lt\\__(), \\__lte\\__(), \\__eq\\__(), etc"
   ]
  },
  {
   "cell_type": "code",
   "execution_count": null,
   "metadata": {},
   "outputs": [],
   "source": []
  },
  {
   "cell_type": "code",
   "execution_count": null,
   "metadata": {},
   "outputs": [],
   "source": []
  },
  {
   "cell_type": "code",
   "execution_count": null,
   "metadata": {},
   "outputs": [],
   "source": []
  },
  {
   "cell_type": "markdown",
   "metadata": {},
   "source": [
    "##### \\_\\_add\\_\\_, \\_\\_contains\\_\\_"
   ]
  },
  {
   "cell_type": "code",
   "execution_count": null,
   "metadata": {},
   "outputs": [],
   "source": []
  },
  {
   "cell_type": "code",
   "execution_count": null,
   "metadata": {},
   "outputs": [],
   "source": []
  },
  {
   "cell_type": "code",
   "execution_count": null,
   "metadata": {},
   "outputs": [],
   "source": []
  },
  {
   "cell_type": "markdown",
   "metadata": {},
   "source": [
    "#### In-class Exercise 1"
   ]
  },
  {
   "cell_type": "code",
   "execution_count": null,
   "metadata": {},
   "outputs": [],
   "source": [
    "# Create a class Animal that displays the name and species when printed\n",
    "\n",
    "\n",
    "leo = Animal('Leo', 'lion')\n",
    "\n",
    "print(leo) # Leo the Lion\n",
    "\n",
    "\n",
    "buddy = Animal('Buddy', 'dog')\n",
    "print(buddy) # Buddy the Dog"
   ]
  },
  {
   "cell_type": "markdown",
   "metadata": {},
   "source": [
    "## Inheritance <br>\n",
    "<p>You can create a child-parent relationship between two classes by using inheritance. What this allows you to do is have overriding methods, but also inherit traits from the parent class. Think of it as an actual parent and child, the child will inherit the parent's genes, as will the classes in OOP</p>"
   ]
  },
  {
   "cell_type": "markdown",
   "metadata": {},
   "source": [
    "##### Syntax for Inheriting from a Parent Class"
   ]
  },
  {
   "cell_type": "code",
   "execution_count": null,
   "metadata": {},
   "outputs": [],
   "source": [
    "# Syntax: class Child(Parent):\n",
    "\n"
   ]
  },
  {
   "cell_type": "code",
   "execution_count": null,
   "metadata": {},
   "outputs": [],
   "source": []
  },
  {
   "cell_type": "markdown",
   "metadata": {},
   "source": [
    "##### The \\__init\\__() Method for a Child Class - super()"
   ]
  },
  {
   "cell_type": "code",
   "execution_count": null,
   "metadata": {
    "scrolled": true
   },
   "outputs": [],
   "source": []
  },
  {
   "cell_type": "code",
   "execution_count": null,
   "metadata": {},
   "outputs": [],
   "source": []
  },
  {
   "cell_type": "code",
   "execution_count": null,
   "metadata": {
    "scrolled": true
   },
   "outputs": [],
   "source": []
  },
  {
   "cell_type": "code",
   "execution_count": null,
   "metadata": {},
   "outputs": [],
   "source": []
  },
  {
   "cell_type": "code",
   "execution_count": null,
   "metadata": {},
   "outputs": [],
   "source": []
  },
  {
   "cell_type": "markdown",
   "metadata": {},
   "source": [
    "#### In-class Exercise 2"
   ]
  },
  {
   "cell_type": "markdown",
   "metadata": {},
   "source": [
    "Create a Car class that has a drive and fill up method, and then create a Ford class that inherits from the car class."
   ]
  },
  {
   "cell_type": "code",
   "execution_count": null,
   "metadata": {},
   "outputs": [],
   "source": [
    "\n",
    "\n",
    "\n",
    "\n",
    "my_car = Ford('blue', 'Focus')\n",
    "\n",
    "print(my_car.make) # 'Ford'\n",
    "\n",
    "my_car.drive() # 'blue Ford Focus is driving'\n",
    "\n",
    "my_car.fill_up() # 'Filling up blue Ford Focus'\n",
    "\n",
    "my_other_car = Toyota('red', 'Camry')\n",
    "\n",
    "my_other_car.drive()\n",
    "my_other_car.fill_up()\n"
   ]
  },
  {
   "cell_type": "markdown",
   "metadata": {},
   "source": [
    "## Modules"
   ]
  },
  {
   "cell_type": "markdown",
   "metadata": {},
   "source": [
    "##### Importing Entire Modules"
   ]
  },
  {
   "cell_type": "code",
   "execution_count": null,
   "metadata": {},
   "outputs": [],
   "source": [
    "# import name_of_module\n",
    "\n"
   ]
  },
  {
   "cell_type": "markdown",
   "metadata": {},
   "source": [
    "##### Importing Methods Only"
   ]
  },
  {
   "cell_type": "code",
   "execution_count": null,
   "metadata": {},
   "outputs": [],
   "source": [
    "# from module_name import class, function, constant, etc.\n",
    "\n"
   ]
  },
  {
   "cell_type": "markdown",
   "metadata": {},
   "source": [
    "##### Using the 'as' Keyword"
   ]
  },
  {
   "cell_type": "code",
   "execution_count": null,
   "metadata": {},
   "outputs": [],
   "source": [
    "# import module as new_name\n",
    "# from module import function as f\n",
    "\n"
   ]
  },
  {
   "cell_type": "code",
   "execution_count": null,
   "metadata": {},
   "outputs": [],
   "source": []
  },
  {
   "cell_type": "code",
   "execution_count": null,
   "metadata": {},
   "outputs": [],
   "source": [
    "# Using VS Code\n"
   ]
  },
  {
   "cell_type": "code",
   "execution_count": null,
   "metadata": {},
   "outputs": [],
   "source": []
  },
  {
   "cell_type": "code",
   "execution_count": null,
   "metadata": {},
   "outputs": [],
   "source": []
  },
  {
   "cell_type": "code",
   "execution_count": null,
   "metadata": {},
   "outputs": [],
   "source": []
  },
  {
   "cell_type": "code",
   "execution_count": null,
   "metadata": {},
   "outputs": [],
   "source": []
  }
 ],
 "metadata": {
  "kernelspec": {
   "display_name": "Python 3 (ipykernel)",
   "language": "python",
   "name": "python3"
  },
  "language_info": {
   "codemirror_mode": {
    "name": "ipython",
    "version": 3
   },
   "file_extension": ".py",
   "mimetype": "text/x-python",
   "name": "python",
   "nbconvert_exporter": "python",
   "pygments_lexer": "ipython3",
   "version": "3.10.9"
  }
 },
 "nbformat": 4,
 "nbformat_minor": 2
}
